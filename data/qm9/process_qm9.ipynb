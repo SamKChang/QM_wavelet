{
 "cells": [
  {
   "cell_type": "code",
   "execution_count": 1,
   "metadata": {},
   "outputs": [
    {
     "name": "stderr",
     "output_type": "stream",
     "text": [
      "/home/samio/.local/miniconda2/lib/python2.7/site-packages/sklearn/cross_validation.py:44: DeprecationWarning: This module was deprecated in version 0.18 in favor of the model_selection module into which all the refactored classes and functions are moved. Also note that the interface of the new CV iterators are different from that of this module. This module will be removed in 0.20.\n",
      "  \"This module will be removed in 0.20.\", DeprecationWarning)\n"
     ]
    }
   ],
   "source": [
    "import qctoolkit as qtk\n",
    "import numpy as np\n",
    "import sys"
   ]
  },
  {
   "cell_type": "code",
   "execution_count": 2,
   "metadata": {
    "collapsed": true
   },
   "outputs": [],
   "source": [
    "E_dict = {\n",
    "    'H': [ -0.500273,  -0.498857,  -0.497912,  -0.510927],\n",
    "    'C': [-37.846772, -37.845355, -37.844411, -37.861317],\n",
    "    'N': [-54.583861, -54.582445, -54.581501, -54.598897],\n",
    "    'O': [-75.064579, -75.063163, -75.062219, -75.079532],\n",
    "    'F': [-99.718730, -99.717314, -99.716370, -99.733544],\n",
    "}\n",
    "\n",
    "def getEa(mol, properties):\n",
    "    atomized_energies = np.array(properties[10:14])\n",
    "    mol_count = mol.stoichiometry(output='dictionary')\n",
    "    for atom, count in mol_count.items():\n",
    "        atomized_energies -= count * np.array(E_dict[atom])\n",
    "    return atomized_energies * qtk.convE(1, \"Eh-kcal\")[0]"
   ]
  },
  {
   "cell_type": "code",
   "execution_count": 3,
   "metadata": {
    "scrolled": true
   },
   "outputs": [
    {
     "name": "stdout",
     "output_type": "stream",
     "text": [
      "processing 1\n",
      "processing 10001\n",
      "processing 20001\n",
      "processing 30001\n",
      "processing 40001\n",
      "processing 50001\n",
      "processing 60001\n",
      "processing 70001\n",
      "processing 80001\n",
      "processing 90001\n",
      "processing 100001\n",
      "processing 110001\n",
      "processing 120001\n",
      "processing 130001\n"
     ]
    }
   ],
   "source": [
    "# load data\n",
    "\n",
    "mols = []\n",
    "properties = []\n",
    "atomized = []\n",
    "smiles_original = []\n",
    "smiles_optimized = []\n",
    "for i in range(1, 133886):\n",
    "#for i in range(1, 1000):\n",
    "    name = 'qm9/dsgdb9nsd_%06d.xyz' % i\n",
    "    mol = qtk.Molecule(name)\n",
    "    mol_file = open(name)\n",
    "    mol_data = mol_file.readlines()\n",
    "    mol_prop = [float(p) for p in mol_data[1].split(\"\\t\")[1:-1]]\n",
    "    properties.append(mol_prop)\n",
    "    atomized.append(getEa(mol, mol_prop))\n",
    "    smiles_original.append(mol_data[-2].split(\"\\t\")[0])\n",
    "    smiles_optimized.append(mol_data[-2].split(\"\\t\")[1])\n",
    "    mols.append(mol)\n",
    "    mol_file.close()\n",
    "    if i % 10000 == 1:\n",
    "        print \"processing %d\" % i\n",
    "properties = np.array(properties)\n",
    "Ea_prop = np.stack(atomized)"
   ]
  },
  {
   "cell_type": "code",
   "execution_count": 4,
   "metadata": {},
   "outputs": [
    {
     "name": "stdout",
     "output_type": "stream",
     "text": [
      "processing 1\n",
      "processing 5001\n",
      "processing 10001\n",
      "processing 15001\n",
      "processing 20001\n",
      "processing 25001\n",
      "processing 30001\n",
      "processing 35001\n",
      "processing 40001\n",
      "processing 45001\n",
      "processing 50001\n",
      "processing 55001\n",
      "processing 60001\n",
      "processing 65001\n",
      "processing 70001\n",
      "processing 75001\n",
      "processing 80001\n",
      "processing 85001\n",
      "processing 90001\n",
      "processing 95001\n",
      "processing 100001\n",
      "processing 105001\n",
      "processing 110001\n",
      "processing 115001\n",
      "processing 120001\n",
      "processing 125001\n",
      "processing 130001\n"
     ]
    }
   ],
   "source": [
    "# construct numpy data\n",
    "data = qtk.ML.pack(mols)"
   ]
  },
  {
   "cell_type": "code",
   "execution_count": 5,
   "metadata": {},
   "outputs": [],
   "source": [
    "data['E'] = Ea_prop[:,1]\n",
    "data['atomized_energies'] = Ea_prop\n",
    "data['properties'] = properties\n",
    "data['smiles_original'] = smiles_original\n",
    "data['smiles_optimized'] = smiles_optimized"
   ]
  },
  {
   "cell_type": "code",
   "execution_count": 6,
   "metadata": {},
   "outputs": [],
   "source": [
    "qtk.pdump(data, \"data_qm9.pkl\")"
   ]
  },
  {
   "cell_type": "code",
   "execution_count": null,
   "metadata": {
    "collapsed": true
   },
   "outputs": [],
   "source": []
  }
 ],
 "metadata": {
  "anaconda-cloud": {},
  "kernelspec": {
   "display_name": "Python 2",
   "language": "python",
   "name": "python2"
  },
  "language_info": {
   "codemirror_mode": {
    "name": "ipython",
    "version": 2
   },
   "file_extension": ".py",
   "mimetype": "text/x-python",
   "name": "python",
   "nbconvert_exporter": "python",
   "pygments_lexer": "ipython2",
   "version": "2.7.13"
  }
 },
 "nbformat": 4,
 "nbformat_minor": 1
}
