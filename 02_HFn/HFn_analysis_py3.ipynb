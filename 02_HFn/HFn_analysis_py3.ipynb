{
 "cells": [
  {
   "cell_type": "code",
   "execution_count": null,
   "metadata": {
    "collapsed": true
   },
   "outputs": [],
   "source": [
    "#import qctoolkit as qtk\n",
    "#import qctoolkit.projects.Basel.p14_stml.scatteringTransform as qst\n",
    "#import qctoolkit.projects.Basel.p14_stml.estimators as qes\n",
    "\n",
    "import sys\n",
    "import os\n",
    "script_path = os.path.join(os.path.split(os.getcwd())[0], 'script')\n",
    "sys.path.insert(0, script_path)\n",
    "import scatteringTransform as qst\n",
    "import estimators as qes\n",
    "import tools as qtl\n",
    "import pickle\n",
    "\n",
    "import numpy as np\n",
    "from sklearn.cross_validation import ShuffleSplit\n",
    "from sklearn.cross_validation import cross_val_score\n",
    "from sklearn.linear_model import Ridge\n",
    "from sklearn.kernel_ridge import KernelRidge\n",
    "import time\n",
    "import glob\n",
    "\n",
    "def pload(fname):\n",
    "    with open(fname, 'rb') as pfile:\n",
    "        return pickle.load(pfile)"
   ]
  },
  {
   "cell_type": "markdown",
   "metadata": {},
   "source": [
    "# Construct ST regression matrix and OLS path"
   ]
  },
  {
   "cell_type": "code",
   "execution_count": null,
   "metadata": {
    "collapsed": true
   },
   "outputs": [],
   "source": [
    "signal_setting = {\n",
    "    'padding': 10,\n",
    "    'grid_step': 0.01,\n",
    "    'components': ['all', 'valence', 'core']\n",
    "}\n",
    "\n",
    "filter_setting = {\n",
    "    #'derivatives': np.array([0, 1, 2]),\n",
    "    #'scales': np.arange(3, 10),\n",
    "    'derivatives': np.array([0,1]),\n",
    "    'scales': np.arange(6,8),\n",
    "    'wavelet': qst.gabor_k,\n",
    "}\n",
    "fname_list = sorted(glob.glob('../data/data_m?.pkl'))"
   ]
  },
  {
   "cell_type": "code",
   "execution_count": null,
   "metadata": {
    "collapsed": true
   },
   "outputs": [],
   "source": [
    "st_matrix_list = []\n",
    "E_list = []\n",
    "\n",
    "for fname in fname_list:\n",
    "    print(\"processing %s\" % fname)\n",
    "\n",
    "    ti = time.time()\n",
    "    st_matrix, E = qst.stModel_1d(\n",
    "        fname, \n",
    "        batch = 5,\n",
    "        signal_setting = signal_setting, \n",
    "        filter_setting = filter_setting\n",
    "    )\n",
    "    tf = time.time()\n",
    "    print(\"time: %f\" % (tf - ti))\n",
    "    st_matrix_list.append(st_matrix)\n",
    "    E_list.append(E)\n",
    "\n",
    "#np.savez('st_models_HFn.npz', st=st_matrix_list, E=E_list)"
   ]
  },
  {
   "cell_type": "code",
   "execution_count": null,
   "metadata": {
    "collapsed": true
   },
   "outputs": [],
   "source": [
    "st_model = np.load('../data/st_models_HFn.npz')\n",
    "st_matrix_list = st_model['st']\n",
    "E_list = st_model['E']"
   ]
  },
  {
   "cell_type": "code",
   "execution_count": null,
   "metadata": {
    "collapsed": true
   },
   "outputs": [],
   "source": [
    "mae_list = []\n",
    "mse_list = []\n",
    "components_list = []\n",
    "for i in range(len(fname_list)):\n",
    "    E = np.array(E_list[i])\n",
    "    stm = st_matrix_list[i]\n",
    "    cv = ShuffleSplit(len(E), n_iter=10, test_size=.1, random_state=42)\n",
    "    MSE, MAE, components = qes.ols_path_cv(stm, E.ravel(), cv=cv, ridge_penalty=1e-6, max_num_atoms=500, return_components=True)\n",
    "    mse_list.append(MSE)\n",
    "    mae_list.append(MAE)\n",
    "    components_list.append(components)\n",
    "    \n",
    "#np.savez('st_models_HFn_ols.npz', maes=mae_list, mses=mse_list, components_list = components_list)"
   ]
  },
  {
   "cell_type": "markdown",
   "metadata": {},
   "source": [
    "# ST learning curves"
   ]
  },
  {
   "cell_type": "code",
   "execution_count": null,
   "metadata": {
    "collapsed": true
   },
   "outputs": [],
   "source": [
    "st_data = np.load('../data/st_models_HFn.npz')\n",
    "ols_data = np.load('../data/st_models_HFn_ols.npz')\n",
    "data_list = [pload(f) for f in sorted(glob.glob('../data/data_m?.pkl'))]\n",
    "st_matrix_list = st_data['st']\n",
    "E_list = st_data['E']\n",
    "components_list = ols_data['components_list']\n",
    "\n",
    "n_samples_list = range(10,100,10) + range(100, 1000, 100)\n",
    "alphas = [1e-6]\n",
    "n_components_list = [1, 2, 5, 10, 20, 50, 100, 200, 300, 500]\n",
    "\n",
    "def getData_st(i):\n",
    "    return data_list[i], st_matrix_list[i], components_list[i]\n",
    "def getData_kr(i):\n",
    "    return data_list[i]"
   ]
  },
  {
   "cell_type": "code",
   "execution_count": null,
   "metadata": {
    "collapsed": true
   },
   "outputs": [],
   "source": [
    "st_scores = []\n",
    "for i in range(len(data_list)):\n",
    "    data, st_matrix, components = getData_st(i)\n",
    "    E = np.array(data['E'])\n",
    "    cv = ShuffleSplit(len(E), n_iter=10, test_size=.1, random_state=42)\n",
    "    stsetting = {\n",
    "        'regression_matrix': st_matrix,\n",
    "        'n_samples_list': n_samples_list,\n",
    "        'alphas': alphas,\n",
    "        'n_components_list': n_components_list,\n",
    "        'ols_components': components,\n",
    "        'cv': cv,\n",
    "        'threads': 10,\n",
    "    }\n",
    "    st_scores.append(qst.stScore(data, **stsetting))\n",
    "    \n",
    "st_scores = np.stack(st_scores)\n",
    "# np.savez('st_scores.npz',\n",
    "#          score = st_scores,\n",
    "#          n_samples = n_samples_list,\n",
    "#          components = n_components_list)"
   ]
  },
  {
   "cell_type": "code",
   "execution_count": null,
   "metadata": {
    "collapsed": true
   },
   "outputs": [],
   "source": [
    "descriptors = {\n",
    "    'distance': {'n': 1, 'sort':False},\n",
    "    'distance_2': {'n': 2, 'sort':False},\n",
    "    'coulomb_nosort_nocharge': {'n': -1, 'sort':False},\n",
    "    'coulomb_nocharge': {'n': -1},\n",
    "    'coulomb_nosort': {'n': -1, 'sort':False, 'nuclear_charges':True},\n",
    "    'coulomb': {'n': -1, 'nuclear_charges':True},\n",
    "    'coulomb_inv2': {'n': -2, 'nuclear_charges':True},\n",
    "}"
   ]
  },
  {
   "cell_type": "code",
   "execution_count": null,
   "metadata": {
    "collapsed": true
   },
   "outputs": [],
   "source": [
    "gammas = [.01, .02, .05, .1, .2, .5, 1]\n",
    "alphas = [1e-6, 1e-9, 1e-12]\n",
    "n_components_list = [1, 2, 5, 10, 20, 50, 100, 200, 300, 500]\n",
    "n_samples_list = list(range(10, 100, 10)) + \\\n",
    "    list(range(100, 1000, 100)) + \\\n",
    "    list(range(1000, 3000, 200)) + \\\n",
    "    list(range(3000, 5000, 500)) + \\\n",
    "    list(range(5000, 7500, 1000))"
   ]
  },
  {
   "cell_type": "code",
   "execution_count": null,
   "metadata": {
    "collapsed": true
   },
   "outputs": [],
   "source": [
    "kr_all_scores = []\n",
    "for i in range(len(data_list)):\n",
    "    kr_scores = []\n",
    "    kr_all_scores.append(kr_scores)\n",
    "    data = getData_kr(i)\n",
    "    E = np.array(data['E'])\n",
    "    cv = ShuffleSplit(len(E), n_iter=10, test_size=.1, random_state=42)\n",
    "    krrsetting = {\n",
    "        'kernel': 'rbf',\n",
    "        'gammas': gammas,\n",
    "        'alphas': alphas,\n",
    "        'n_samples_list': n_samples_list,\n",
    "        'cv': cv,\n",
    "    }\n",
    "    for name, descriptor in descriptors.iteritems():\n",
    "        if 'nuclear_charges' in descriptor and descriptor['nuclear_charges'] is not None:\n",
    "            descriptor['nuclear_charges'] = data['Z']\n",
    "        krrsetting['descriptor_setting'] = descriptor\n",
    "        print(krrsetting)\n",
    "        scores = qtl.krrScore(data, **krrsetting)\n",
    "        kr_scores.append(scores)\n",
    "kr_all_scores = np.stack(kr_all_scores)\n",
    "# np.savez('st_scores_krr_rbf.npz',\n",
    "#          score = st_scores,\n",
    "#          n_samples = n_samples_list,\n",
    "#          gammas = gammas)"
   ]
  }
 ],
 "metadata": {
  "kernelspec": {
   "display_name": "IPython (Python 3)",
   "language": "python",
   "name": "python3"
  },
  "language_info": {
   "codemirror_mode": {
    "name": "ipython",
    "version": 3
   },
   "file_extension": ".py",
   "mimetype": "text/x-python",
   "name": "python",
   "nbconvert_exporter": "python",
   "pygments_lexer": "ipython3",
   "version": "3.4.3"
  }
 },
 "nbformat": 4,
 "nbformat_minor": 0
}
