{
 "cells": [
  {
   "cell_type": "code",
   "execution_count": 1,
   "metadata": {
    "collapsed": true
   },
   "outputs": [],
   "source": [
    "import numpy as np\n",
    "import qctoolkit as qtk"
   ]
  },
  {
   "cell_type": "code",
   "execution_count": 2,
   "metadata": {
    "collapsed": false
   },
   "outputs": [],
   "source": [
    "maia = {\n",
    "    #'flags': '-l runtime=6:0:0',#membycore=4G',\n",
    "    'ip': '131.152.25.38',\n",
    "    'submission_script': '$HOME/bin/qsubqtk.sh',\n",
    "    'username': 'changk',\n",
    "    'compress': True,\n",
    "}\n",
    "\n",
    "qmsetting = {\n",
    "    'program': 'gaussian',\n",
    "    'theory': 'pbe0',\n",
    "    'vdw': 'd3',\n",
    "    #'basis_set': 'aug-cc-pVTZ',\n",
    "    #'openshell': 'restricted',\n",
    "    #'theory': 'ccsd(t)',\n",
    "    'threads': 1,\n",
    "    'save_density': True,\n",
    "    'print_energy': True,\n",
    "    #'print_polarizability': True\n",
    "    #'charge_multiplicity': [0, 1]\n",
    "}\n",
    "\n",
    "covalentList = np.arange(0.5, 2.0, 0.08)\n",
    "hbondList = np.arange(0.7, 4.0, 0.16)\n",
    "\n",
    "\n",
    "\n",
    "def build(a,b,c):\n",
    "    mol = qtk.Molecule()\n",
    "    ZR = [\n",
    "        [1, -a, 0, 0],\n",
    "        [9,  0, 0, 0],\n",
    "        [1,  b, 0, 0],\n",
    "        [9,b+c, 0, 0],\n",
    "    ]\n",
    "    mol.build(ZR)\n",
    "    return mol\n",
    "\n",
    "def molScan():\n",
    "    mols = []\n",
    "    for a in covalentList:\n",
    "        for b in hbondList:\n",
    "            for c in covalentList:\n",
    "                mol = build(a,b,c)\n",
    "                mol.name = 'HF2_%03d-%03d-%03d' % (a*100, b*100, c*100)\n",
    "                mols.append(mol)\n",
    "    return mols"
   ]
  },
  {
   "cell_type": "code",
   "execution_count": 3,
   "metadata": {
    "collapsed": false
   },
   "outputs": [
    {
     "name": "stdout",
     "output_type": "stream",
     "text": [
      "%nproc=1\n",
      "%chk=tmp.chk\n",
      "# pbe1pbe/def2tzvp force int(grid=ultrafine) 6d 10f EmpiricalDispersion=GD3 nosymm ExtraLinks=L608 Scf(maxcycle=1000,verytight) IOp(2/12=3)\n",
      "\n",
      "HF2_050-070-050\n",
      "\n",
      "0   1\n",
      "H   -0.5000   0.0000   0.0000\n",
      "F    0.0000   0.0000   0.0000\n",
      "H    0.7000   0.0000   0.0000\n",
      "F    1.2000   0.0000   0.0000\n",
      "\n",
      "\n"
     ]
    },
    {
     "data": {
      "text/plain": [
       "<qctoolkit.QM.general_io.InpContent at 0x2b044e1d7410>"
      ]
     },
     "execution_count": 3,
     "metadata": {},
     "output_type": "execute_result"
    }
   ],
   "source": [
    "mols = molScan()\n",
    "inps = [qtk.QMInp(m, **qmsetting) for m in mols]\n",
    "inps[0].write()"
   ]
  },
  {
   "cell_type": "code",
   "execution_count": 5,
   "metadata": {
    "collapsed": false
   },
   "outputs": [],
   "source": [
    "#qtk.submit(inps, 'wavelet_HF_fine', **maia)\n",
    "#qtk.qmRunAll(inps, 'wavelet_HF_find_local')"
   ]
  },
  {
   "cell_type": "code",
   "execution_count": null,
   "metadata": {
    "collapsed": true
   },
   "outputs": [],
   "source": []
  }
 ],
 "metadata": {
  "kernelspec": {
   "display_name": "Python 2",
   "language": "python",
   "name": "python2"
  },
  "language_info": {
   "codemirror_mode": {
    "name": "ipython",
    "version": 2
   },
   "file_extension": ".py",
   "mimetype": "text/x-python",
   "name": "python",
   "nbconvert_exporter": "python",
   "pygments_lexer": "ipython2",
   "version": "2.7.6"
  }
 },
 "nbformat": 4,
 "nbformat_minor": 0
}
