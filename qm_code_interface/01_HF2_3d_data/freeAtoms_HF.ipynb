{
 "cells": [
  {
   "cell_type": "code",
   "execution_count": 4,
   "metadata": {
    "collapsed": true
   },
   "outputs": [],
   "source": [
    "import qctoolkit as qtk\n",
    "import copy"
   ]
  },
  {
   "cell_type": "code",
   "execution_count": 5,
   "metadata": {
    "collapsed": false
   },
   "outputs": [],
   "source": [
    "atoms = {\n",
    "    'H': {'ZR':[1, 0,0,0], 'M':2},\n",
    "    'F': {'ZR':[9, 0,0,0], 'M':2},\n",
    "}\n",
    "\n",
    "qmsetting = {\n",
    "    'program': 'gaussian',\n",
    "    'theory': 'ccsd(t)',\n",
    "    'basis_set': 'aug-cc-pVTZ',\n",
    "    'save_density': True,\n",
    "    'openshell': 'restricted',\n",
    "    'print_energy': True,\n",
    "}\n",
    "\n",
    "inps = []\n",
    "for atom, data in atoms.iteritems():\n",
    "    mol = qtk.Molecule()\n",
    "    mol.build(data['ZR'])\n",
    "    mol.setChargeMultiplicity(0, data['M'])\n",
    "    if atom == 'H':\n",
    "        hsetting = copy.deepcopy(qmsetting)\n",
    "        hsetting['theory'] = 'hf'\n",
    "        inps.append(qtk.QMInp(mol, **hsetting))\n",
    "    else:\n",
    "        inps.append(qtk.QMInp(mol, **qmsetting))"
   ]
  },
  {
   "cell_type": "code",
   "execution_count": 6,
   "metadata": {
    "collapsed": false
   },
   "outputs": [
    {
     "name": "stdout",
     "output_type": "stream",
     "text": [
      "\u001b[96m\u001b[1mQMInp.run:\u001b[0m H1 exists \n",
      "\u001b[96m\u001b[1mQMInp.run:\u001b[0m F1 exists \n"
     ]
    }
   ],
   "source": [
    "for inp in inps:\n",
    "    inp.run()"
   ]
  },
  {
   "cell_type": "code",
   "execution_count": null,
   "metadata": {
    "collapsed": true
   },
   "outputs": [],
   "source": []
  }
 ],
 "metadata": {
  "kernelspec": {
   "display_name": "Python 2",
   "language": "python",
   "name": "python2"
  },
  "language_info": {
   "codemirror_mode": {
    "name": "ipython",
    "version": 2
   },
   "file_extension": ".py",
   "mimetype": "text/x-python",
   "name": "python",
   "nbconvert_exporter": "python",
   "pygments_lexer": "ipython2",
   "version": "2.7.6"
  }
 },
 "nbformat": 4,
 "nbformat_minor": 0
}
