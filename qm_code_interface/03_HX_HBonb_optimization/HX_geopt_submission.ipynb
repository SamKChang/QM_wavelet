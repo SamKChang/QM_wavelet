{
 "cells": [
  {
   "cell_type": "code",
   "execution_count": 5,
   "metadata": {
    "collapsed": true
   },
   "outputs": [],
   "source": [
    "from numpy.random import RandomState\n",
    "import numpy as np\n",
    "import qctoolkit as qtk\n",
    "import copy"
   ]
  },
  {
   "cell_type": "code",
   "execution_count": 6,
   "metadata": {
    "collapsed": true
   },
   "outputs": [],
   "source": [
    "maia = {\n",
    "    #'flags': '-l runtime=6:0:0',#membycore=4G',\n",
    "    'ip': '131.152.25.38',\n",
    "    'submission_script': '$HOME/bin/qsubqtk.sh',\n",
    "    'username': 'changk',\n",
    "    'compress': True,\n",
    "}\n",
    "\n",
    "qmsetting = {\n",
    "    'program': 'gaussian',\n",
    "    'theory': 'pbe0',\n",
    "    'vdw': 'd3',\n",
    "    #'theory': 'ccsd(t)',\n",
    "    #'basis_set': 'aug-cc-pVTZ',\n",
    "    #'openshell': 'restricted',\n",
    "    'threads': 1,\n",
    "    'save_density': True,\n",
    "    'print_energy': True,\n",
    "    #'charge_multiplicity': [0, 1]\n",
    "    'geopt': True,\n",
    "}"
   ]
  },
  {
   "cell_type": "code",
   "execution_count": 7,
   "metadata": {
    "collapsed": false
   },
   "outputs": [
    {
     "name": "stdout",
     "output_type": "stream",
     "text": [
      "%nproc=1\n",
      "%chk=tmp.chk\n",
      "# pbe1pbe/def2tzvp opt int(grid=ultrafine) 6d 10f EmpiricalDispersion=GD3 nosymm ExtraLinks=L608 Scf(maxcycle=1000,verytight) IOp(2/12=3)\n",
      "\n",
      "HCl_HCl\n",
      "\n",
      "0   1\n",
      "H    0.0000   0.0000   0.0000\n",
      "Cl   1.2700   0.0000   0.0000\n",
      "H    3.1750   0.0000   0.0000\n",
      "Cl   4.4450   0.0000   0.0000\n",
      "\n",
      "\n"
     ]
    },
    {
     "data": {
      "text/plain": [
       "<qctoolkit.QM.general_io.InpContent at 0x2b97adc83d90>"
      ]
     },
     "execution_count": 7,
     "metadata": {},
     "output_type": "execute_result"
    }
   ],
   "source": [
    "bond_length = {\n",
    "    'HF': {'d':0.93, 'x': 9},\n",
    "    'HCl': {'d':1.27, 'x':17},\n",
    "    'HBr': {'d':1.41, 'x': 35},\n",
    "    'HI': {'d':1.61, 'x': 53},\n",
    "}\n",
    "\n",
    "inps = []\n",
    "for name1 in bond_length.keys():\n",
    "    cb1 = bond_length[name1]['d']\n",
    "    X1 = bond_length[name1]['x']\n",
    "    ZR1 = [[1, 0, 0, 0], [X1, cb1, 0, 0]]\n",
    "    for name2 in bond_length.keys():\n",
    "        cb2 = bond_length[name2]['d']\n",
    "        X2 = bond_length[name2]['x']\n",
    "        hbond = 0.5 * (cb1 + cb2) * 1.5\n",
    "        ZR = copy.deepcopy(ZR1)\n",
    "        ZR.extend([[1, cb1 + hbond, 0, 0], [X2, cb1 + hbond + cb2, 0, 0,]])\n",
    "        mol = qtk.Molecule()\n",
    "        mol.build(ZR)\n",
    "        mol.name = name1 + '_' + name2\n",
    "        inp = qtk.QMInp(mol, **qmsetting)\n",
    "        inps.append(inp)\n",
    "\n",
    "inps[10].write()"
   ]
  },
  {
   "cell_type": "code",
   "execution_count": 2,
   "metadata": {
    "collapsed": false
   },
   "outputs": [],
   "source": [
    "#qtk.submit(inps, 'wavelet_HBond_opt', **maia)\n",
    "#qtk.qmRunAll(inps, 'wavelet_HBond_opt_local')"
   ]
  },
  {
   "cell_type": "code",
   "execution_count": null,
   "metadata": {
    "collapsed": true
   },
   "outputs": [],
   "source": []
  }
 ],
 "metadata": {
  "kernelspec": {
   "display_name": "Python 2",
   "language": "python",
   "name": "python2"
  },
  "language_info": {
   "codemirror_mode": {
    "name": "ipython",
    "version": 2
   },
   "file_extension": ".py",
   "mimetype": "text/x-python",
   "name": "python",
   "nbconvert_exporter": "python",
   "pygments_lexer": "ipython2",
   "version": "2.7.6"
  }
 },
 "nbformat": 4,
 "nbformat_minor": 0
}
