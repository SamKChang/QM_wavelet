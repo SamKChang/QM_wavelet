{
 "cells": [
  {
   "cell_type": "code",
   "execution_count": 2,
   "metadata": {
    "collapsed": true
   },
   "outputs": [],
   "source": [
    "import qctoolkit as qtk\n",
    "import numpy as np\n",
    "import glob"
   ]
  },
  {
   "cell_type": "code",
   "execution_count": 5,
   "metadata": {
    "collapsed": false
   },
   "outputs": [
    {
     "name": "stdout",
     "output_type": "stream",
     "text": [
      " \u001b[93mFORTRAN float overflow when extracting energy components for HBond_opt_maiaout/HBr_HBr/HBr_HBr.out\u001b[0m\n",
      "\u001b[93mHBond_opt_maiaout/HI_HBr/HI_HBr.out failed with message: \u001b[91m\u001b[1mqctoolkit.QM.qmcode.gaussian\u001b[0m\u001b[91m: Error when finding string 'Test job not archived.'\u001b[0m\u001b[0m\n",
      "\u001b[93mHBond_opt_maiaout/HI_HCl/HI_HCl.out failed with message: \u001b[91m\u001b[1mqctoolkit.QM.qmcode.gaussian\u001b[0m\u001b[91m: Error when finding string 'Test job not archived.'\u001b[0m\u001b[0m\n"
     ]
    }
   ],
   "source": [
    "outs = []\n",
    "for f in sorted(glob.glob('HBond_opt_maiaout/*/*.out')):\n",
    "    out = qtk.QMOut(f, program='gaussian')\n",
    "    outs.append(out)"
   ]
  },
  {
   "cell_type": "code",
   "execution_count": 8,
   "metadata": {
    "collapsed": false
   },
   "outputs": [
    {
     "name": "stdout",
     "output_type": "stream",
     "text": [
      "HBr_HBr.out 1.42 3.24 1.42\n",
      "HBr_HCl.out 1.42 3.45 1.28\n",
      "HBr_HF.out  1.42 6.58 0.92\n",
      "HBr_HI.out  1.42 3.15 1.61\n",
      "HCl_HBr.out 1.28 2.98 1.42\n",
      "HCl_HCl.out 1.28 2.99 1.28\n",
      "HCl_HF.out  1.28 2.98 0.92\n",
      "HCl_HI.out  1.28 2.98 1.61\n",
      "HF_HBr.out  0.92 2.16 1.42\n",
      "HF_HCl.out  0.92 2.1 1.28\n",
      "HF_HF.out   0.92 1.88 0.92\n",
      "HF_HI.out   0.92 2.27 1.61\n",
      "HI_HBr.out  not finished\n",
      "HI_HCl.out  not finished\n",
      "HI_HF.out   1.61 10.75 0.92\n",
      "HI_HI.out   1.61 3.37 1.61\n"
     ]
    }
   ],
   "source": [
    "for o in outs:\n",
    "    if hasattr(o, 'molecule'):\n",
    "        if not np.isnan(o.Et):\n",
    "            print '%-11s' % o.name,\n",
    "            print np.round(o.molecule.distance(0,1), decimals=2),\n",
    "            print np.round(o.molecule.distance(1,2), decimals=2),\n",
    "            print np.round(o.molecule.distance(2,3), decimals=2)\n",
    "        else:\n",
    "            print '%-11s not finished' % o.name \n",
    "    else:\n",
    "        print o.name"
   ]
  },
  {
   "cell_type": "code",
   "execution_count": null,
   "metadata": {
    "collapsed": true
   },
   "outputs": [],
   "source": []
  }
 ],
 "metadata": {
  "kernelspec": {
   "display_name": "Python 2",
   "language": "python",
   "name": "python2"
  },
  "language_info": {
   "codemirror_mode": {
    "name": "ipython",
    "version": 2
   },
   "file_extension": ".py",
   "mimetype": "text/x-python",
   "name": "python",
   "nbconvert_exporter": "python",
   "pygments_lexer": "ipython2",
   "version": "2.7.6"
  }
 },
 "nbformat": 4,
 "nbformat_minor": 0
}
