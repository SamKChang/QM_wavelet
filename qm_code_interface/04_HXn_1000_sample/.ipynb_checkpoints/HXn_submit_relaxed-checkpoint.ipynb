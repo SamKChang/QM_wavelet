{
 "cells": [
  {
   "cell_type": "code",
   "execution_count": 1,
   "metadata": {
    "collapsed": true
   },
   "outputs": [],
   "source": [
    "from numpy.random import RandomState\n",
    "import numpy as np\n",
    "import qctoolkit as qtk"
   ]
  },
  {
   "cell_type": "code",
   "execution_count": 2,
   "metadata": {
    "collapsed": true
   },
   "outputs": [],
   "source": [
    "maia = {\n",
    "    #'flags': '-l runtime=6:0:0',#membycore=4G',\n",
    "    'ip': '131.152.25.38',\n",
    "    'submission_script': '$HOME/bin/qsubqtk.sh',\n",
    "    'username': 'changk',\n",
    "    'compress': True,\n",
    "}\n",
    "\n",
    "qmsetting = {\n",
    "    'program': 'gaussian',\n",
    "    'theory': 'pbe0',\n",
    "    'vdw': 'd3',\n",
    "    #'theory': 'ccsd(t)',\n",
    "    #'basis_set': 'aug-cc-pVTZ',\n",
    "    'openshell': 'unrestricted',\n",
    "    'threads': 1,\n",
    "    'save_density': True,\n",
    "    'print_energy': True,\n",
    "    #'charge_multiplicity': [0, 1]\n",
    "}"
   ]
  },
  {
   "cell_type": "code",
   "execution_count": 3,
   "metadata": {
    "collapsed": false
   },
   "outputs": [
    {
     "name": "stdout",
     "output_type": "stream",
     "text": [
      "[[1.0, 1.17, 1.33, 1.5, 1.67, 1.83, 2.0, 2.17, 2.33, 2.5, 2.67, 2.83, 3.0, 3.17, 3.33, 3.5, 3.67, 3.83, 4.0], [1.5, 1.75, 2.0, 2.25, 2.5, 2.75, 3.0, 3.25, 3.5, 3.75, 4.0, 4.25, 4.5, 4.75, 5.0, 5.25, 5.5, 5.75, 6.0], [1.75, 2.04, 2.33, 2.62, 2.92, 3.21, 3.5, 3.79, 4.08, 4.38, 4.67, 4.96, 5.25, 5.54, 5.83, 6.12, 6.42, 6.71, 7.0], [1.75, 2.04, 2.33, 2.62, 2.92, 3.21, 3.5, 3.79, 4.08, 4.38, 4.67, 4.96, 5.25, 5.54, 5.83, 6.12, 6.42, 6.71, 7.0]]\n"
     ]
    }
   ],
   "source": [
    "covalentList = np.arange(0.5, 2.0, 0.08)\n",
    "hbondList = np.arange(0.7, 4.0, 0.16)\n",
    "HF_covalent = 0.93\n",
    "HCl_covalent = 1.27\n",
    "HBr_covalent = 1.41\n",
    "HI_covalent = 1.61\n",
    "HF_hbond = 1.88\n",
    "cbonds = [HF_covalent, HCl_covalent, HBr_covalent, HI_covalent]\n",
    "hbonds = [2.0, 3.0, 3.5, 3.5]\n",
    "\n",
    "cbond_list = []\n",
    "for cb in cbonds:\n",
    "    cbl = np.round(np.linspace(0.5*cb, 2*cb, 19), decimals=2).tolist()\n",
    "    cbond_list.append(cbl)\n",
    "    \n",
    "hbond_list = []\n",
    "for hb in hbonds:\n",
    "    hbl = np.round(np.linspace(0.5*hb, 2*hb, 19), decimals=2).tolist()\n",
    "    hbond_list.append(hbl)\n",
    "\n",
    "print hbond_list\n",
    "halogen = [9, 17, 35, 53]"
   ]
  },
  {
   "cell_type": "code",
   "execution_count": 4,
   "metadata": {
    "collapsed": false
   },
   "outputs": [],
   "source": [
    "def build(n=2, start=0, end=1000):\n",
    "    \n",
    "    rs = RandomState(n + start + end)\n",
    "    size = end - start\n",
    "    covalent = rs.randint(0, len(cbond_list[0]), size=(size, n))\n",
    "    hbond = rs.randint(0, len(hbond_list[0]), size=(size, n))\n",
    "#     hbond = None\n",
    "#     if n > 1:\n",
    "#         hbond = rs.randint(0, len(hbondList), size=(size, n-1))\n",
    "        \n",
    "    heavy_list = rs.randint(0, len(halogen), size=(size, n))\n",
    "    \n",
    "    mols = []\n",
    "    for i in range(size):\n",
    "        covalent_inds = covalent[i]\n",
    "        hbond_inds = hbond[i]\n",
    "        hbond_inds = None\n",
    "        if hbond is not None:\n",
    "            hbond_inds = hbond[i]\n",
    "            \n",
    "        mol = qtk.Molecule()\n",
    "        base_length = 0\n",
    "        ZR = []\n",
    "        for j in range(n):\n",
    "            Zh = halogen[heavy_list[i][j]]\n",
    "            Hn = base_length\n",
    "            Fn = base_length + cbond_list[heavy_list[i][j]][covalent_inds[j]]\n",
    "            ZR.append([ 1, Hn, 0, 0])\n",
    "            ZR.append([Zh, Fn, 0, 0])\n",
    "            if n > 1 and j < n - 1:\n",
    "                base_length += hbond_list[heavy_list[i][j]][hbond_inds[j]]\\\n",
    "                             + cbond_list[heavy_list[i][j]][covalent_inds[j]]\n",
    "                \n",
    "        ZR = np.array(ZR)\n",
    "        \n",
    "        ZR[:, 1] = ZR[:, 1] - cbond_list[heavy_list[i][0]][covalent_inds[0]]\n",
    "        mol.build(ZR)\n",
    "        mol.name = 'HX%d' % n + '_%04d' % i\n",
    "        mols.append(mol)\n",
    "    return mols"
   ]
  },
  {
   "cell_type": "code",
   "execution_count": 5,
   "metadata": {
    "collapsed": false
   },
   "outputs": [],
   "source": [
    "inps_list = []\n",
    "for i in range(2,7):\n",
    "    mols = build(i)\n",
    "    inps = [qtk.QMInp(m, **qmsetting) for m in mols]\n",
    "    inps_list.append(inps)"
   ]
  },
  {
   "cell_type": "code",
   "execution_count": 6,
   "metadata": {
    "collapsed": true
   },
   "outputs": [],
   "source": [
    "name_list = []\n",
    "for i in range(2,7):\n",
    "    name = 'wavelet_HX%d_relaxed_udft' % i\n",
    "    name_list.append(name)"
   ]
  },
  {
   "cell_type": "code",
   "execution_count": 7,
   "metadata": {
    "collapsed": false
   },
   "outputs": [
    {
     "name": "stdout",
     "output_type": "stream",
     "text": [
      "wavelet_HX2_relaxed_udft\n",
      "HX2_0000\n",
      "%nproc=1\n",
      "%chk=tmp.chk\n",
      "# upbe1pbe/def2tzvp force int(grid=ultrafine) 6d 10f EmpiricalDispersion=GD3 nosymm ExtraLinks=L608 Scf(maxcycle=1000,verytight) IOp(2/12=3)\n",
      "\n",
      "HX2_0010\n",
      "\n",
      "0   1\n",
      "H   -3.2200   0.0000   0.0000\n",
      "I    0.0000   0.0000   0.0000\n",
      "H    4.6700   0.0000   0.0000\n",
      "F    5.5200   0.0000   0.0000\n",
      "\n",
      "\n",
      "wavelet_HX3_relaxed_udft\n",
      "HX3_0000\n",
      "%nproc=1\n",
      "%chk=tmp.chk\n",
      "# upbe1pbe/def2tzvp force int(grid=ultrafine) 6d 10f EmpiricalDispersion=GD3 nosymm ExtraLinks=L608 Scf(maxcycle=1000,verytight) IOp(2/12=3)\n",
      "\n",
      "HX3_0010\n",
      "\n",
      "0   1\n",
      "H   -1.0800   0.0000   0.0000\n",
      "F    0.0000   0.0000   0.0000\n",
      "H    3.1700   0.0000   0.0000\n",
      "Br   4.1100   0.0000   0.0000\n",
      "H    7.9000   0.0000   0.0000\n",
      "Br  10.2500   0.0000   0.0000\n",
      "\n",
      "\n",
      "wavelet_HX4_relaxed_udft\n",
      "HX4_0000\n",
      "%nproc=1\n",
      "%chk=tmp.chk\n",
      "# upbe1pbe/def2tzvp force int(grid=ultrafine) 6d 10f EmpiricalDispersion=GD3 nosymm ExtraLinks=L608 Scf(maxcycle=1000,verytight) IOp(2/12=3)\n",
      "\n",
      "HX4_0010\n",
      "\n",
      "0   1\n",
      "H   -1.8800   0.0000   0.0000\n",
      "Br   0.0000   0.0000   0.0000\n",
      "H    2.0400   0.0000   0.0000\n",
      "Cl   3.6300   0.0000   0.0000\n",
      "H    8.1300   0.0000   0.0000\n",
      "F    9.7600   0.0000   0.0000\n",
      "H   10.9300   0.0000   0.0000\n",
      "I   12.6700   0.0000   0.0000\n",
      "\n",
      "\n",
      "wavelet_HX5_relaxed_udft\n",
      "HX5_0000\n",
      "%nproc=1\n",
      "%chk=tmp.chk\n",
      "# upbe1pbe/def2tzvp force int(grid=ultrafine) 6d 10f EmpiricalDispersion=GD3 nosymm ExtraLinks=L608 Scf(maxcycle=1000,verytight) IOp(2/12=3)\n",
      "\n",
      "HX5_0010\n",
      "\n",
      "0   1\n",
      "H   -2.4700   0.0000   0.0000\n",
      "Br   0.0000   0.0000   0.0000\n",
      "H    2.6200   0.0000   0.0000\n",
      "Br   4.7300   0.0000   0.0000\n",
      "H    8.8100   0.0000   0.0000\n",
      "Cl  10.1900   0.0000   0.0000\n",
      "H   13.6900   0.0000   0.0000\n",
      "F   15.0900   0.0000   0.0000\n",
      "H   16.0900   0.0000   0.0000\n",
      "F   17.4100   0.0000   0.0000\n",
      "\n",
      "\n",
      "wavelet_HX6_relaxed_udft\n",
      "HX6_0000\n",
      "%nproc=1\n",
      "%chk=tmp.chk\n",
      "# upbe1pbe/def2tzvp force int(grid=ultrafine) 6d 10f EmpiricalDispersion=GD3 nosymm ExtraLinks=L608 Scf(maxcycle=1000,verytight) IOp(2/12=3)\n",
      "\n",
      "HX6_0010\n",
      "\n",
      "0   1\n",
      "H   -2.0100   0.0000   0.0000\n",
      "Cl   0.0000   0.0000   0.0000\n",
      "H    5.5000   0.0000   0.0000\n",
      "Br   6.4400   0.0000   0.0000\n",
      "H    9.0600   0.0000   0.0000\n",
      "Br   9.7600   0.0000   0.0000\n",
      "H   15.3000   0.0000   0.0000\n",
      "I   18.1200   0.0000   0.0000\n",
      "H   20.4500   0.0000   0.0000\n",
      "Cl  21.3000   0.0000   0.0000\n",
      "H   27.3000   0.0000   0.0000\n",
      "I   28.5100   0.0000   0.0000\n",
      "\n",
      "\n"
     ]
    }
   ],
   "source": [
    "for i in range(len(inps_list)):\n",
    "    print name_list[i]\n",
    "    print inps_list[i][0].molecule.name\n",
    "    inps_list[i][10].write()"
   ]
  },
  {
   "cell_type": "code",
   "execution_count": 8,
   "metadata": {
    "collapsed": false
   },
   "outputs": [],
   "source": [
    "for i in range(len(inps_list)):\n",
    "    inps = inps_list[i]\n",
    "    name = name_list[i]\n",
    "    #qtk.submit(inps, name, **maia)\n",
    "    #qtk.qmRunAll(inps, name)"
   ]
  },
  {
   "cell_type": "code",
   "execution_count": null,
   "metadata": {
    "collapsed": true
   },
   "outputs": [],
   "source": []
  }
 ],
 "metadata": {
  "kernelspec": {
   "display_name": "Python 2",
   "language": "python",
   "name": "python2"
  },
  "language_info": {
   "codemirror_mode": {
    "name": "ipython",
    "version": 2
   },
   "file_extension": ".py",
   "mimetype": "text/x-python",
   "name": "python",
   "nbconvert_exporter": "python",
   "pygments_lexer": "ipython2",
   "version": "2.7.6"
  }
 },
 "nbformat": 4,
 "nbformat_minor": 0
}
