{
 "cells": [
  {
   "cell_type": "code",
   "execution_count": 1,
   "metadata": {
    "collapsed": true
   },
   "outputs": [],
   "source": [
    "from numpy.random import RandomState\n",
    "import numpy as np\n",
    "import qctoolkit as qtk"
   ]
  },
  {
   "cell_type": "code",
   "execution_count": 2,
   "metadata": {
    "collapsed": true
   },
   "outputs": [],
   "source": [
    "maia = {\n",
    "    #'flags': '-l runtime=6:0:0',#membycore=4G',\n",
    "    'ip': '131.152.25.38',\n",
    "    'submission_script': '$HOME/bin/qsubqtk.sh',\n",
    "    'username': 'changk',\n",
    "    'compress': True,\n",
    "}\n",
    "\n",
    "qmsetting = {\n",
    "    'program': 'gaussian',\n",
    "    #'theory': 'pbe0',\n",
    "    #'vdw': 'd3',\n",
    "    'theory': 'ccsd(t)',\n",
    "    'basis_set': 'aug-cc-pVTZ',\n",
    "    #'openshell': 'restricted',\n",
    "    'threads': 1,\n",
    "    'save_density': True,\n",
    "    'print_energy': True,\n",
    "    #'charge_multiplicity': [0, 1]\n",
    "}\n",
    "\n",
    "covalentList = np.arange(0.5, 2.0, 0.08)\n",
    "hbondList = np.arange(0.7, 4.0, 0.16)\n",
    "HF_covalent = 0.93\n",
    "HF_hbond = 1.88"
   ]
  },
  {
   "cell_type": "code",
   "execution_count": 3,
   "metadata": {
    "collapsed": true
   },
   "outputs": [],
   "source": [
    "def build(n=2, start=0, end=1000):\n",
    "    \n",
    "    rs = RandomState(n + start + end)\n",
    "    size = end - start\n",
    "    covalent = rs.randint(0, len(covalentList), size=(size, n))\n",
    "    hbond = None\n",
    "    if n > 1:\n",
    "        hbond = rs.randint(0, len(hbondList), size=(size, n-1))\n",
    "    \n",
    "    mols = []\n",
    "    for i in range(size):\n",
    "        covalent_inds = covalent[i]\n",
    "        hbond_inds = None\n",
    "        if hbond is not None:\n",
    "            hbond_inds = hbond[i]\n",
    "            \n",
    "        mol = qtk.Molecule()\n",
    "        base_length = 0\n",
    "        ZR = []\n",
    "        for j in range(n):\n",
    "            Hn = base_length\n",
    "            Fn = base_length + covalentList[covalent_inds[j]]\n",
    "            ZR.append([1, Hn, 0, 0])\n",
    "            ZR.append([9, Fn, 0, 0])\n",
    "            if n > 1 and j < n - 1:\n",
    "                base_length += hbondList[hbond_inds[j]] + covalentList[covalent_inds[j]]\n",
    "                \n",
    "        ZR = np.array(ZR)\n",
    "        \n",
    "        ZR[:, 1] = ZR[:, 1] - covalentList[covalent_inds[0]]\n",
    "        mol.build(ZR)\n",
    "        mol.name = mol.name + '_%04d' % i\n",
    "        mols.append(mol)\n",
    "    return mols\n",
    "\n",
    "def checkBondLength(mol):\n",
    "    for i in range(mol.N - 1):\n",
    "        print \" %4.3f\" % mol.distance(i, i+1),\n",
    "    print \"; %4.3f\" % mol.distance(0, mol.N-1)\n",
    "        \n",
    "    "
   ]
  },
  {
   "cell_type": "code",
   "execution_count": 4,
   "metadata": {
    "collapsed": false
   },
   "outputs": [
    {
     "name": "stdout",
     "output_type": "stream",
     "text": [
      "molecule  0:\n",
      " 1.700  1.660  0.820 ; 4.180\n",
      "\n",
      "molecule  1:\n",
      " 0.740  1.340  1.060 ; 3.140\n",
      "\n",
      "molecule  2:\n",
      " 1.620  3.260  1.140 ; 6.020\n",
      "\n",
      "molecule  3:\n",
      " 1.620  1.820  1.300 ; 4.740\n",
      "\n",
      "molecule  4:\n",
      " 1.140  2.620  1.060 ; 4.820\n",
      "\n"
     ]
    }
   ],
   "source": [
    "mols = build(2, 0, 5)\n",
    "for i in range(len(mols)):\n",
    "    print \"molecule %2d:\" % i\n",
    "    checkBondLength(mols[i])\n",
    "    print "
   ]
  },
  {
   "cell_type": "code",
   "execution_count": 5,
   "metadata": {
    "collapsed": false
   },
   "outputs": [
    {
     "name": "stdout",
     "output_type": "stream",
     "text": [
      "%nproc=1\n",
      "%chk=tmp.chk\n",
      "# ccsd(t)/aug-cc-pVTZ force int(grid=ultrafine) 6d 10f nosymm ExtraLinks=L608 Scf(maxcycle=1000,verytight) IOp(2/12=3)\n",
      "\n",
      "H3F3_0010\n",
      "\n",
      "0   1\n",
      "H   -1.1400   0.0000   0.0000\n",
      "F    0.0000   0.0000   0.0000\n",
      "H    1.9800   0.0000   0.0000\n",
      "F    2.6400   0.0000   0.0000\n",
      "H    6.2200   0.0000   0.0000\n",
      "F    7.8400   0.0000   0.0000\n",
      "\n",
      "\n",
      "%nproc=1\n",
      "%chk=tmp.chk\n",
      "# ccsd(t)/aug-cc-pVTZ force int(grid=ultrafine) 6d 10f nosymm ExtraLinks=L608 Scf(maxcycle=1000,verytight) IOp(2/12=3)\n",
      "\n",
      "H4F4_0020\n",
      "\n",
      "0   1\n",
      "H   -0.8200   0.0000   0.0000\n",
      "F    0.0000   0.0000   0.0000\n",
      "H    3.5800   0.0000   0.0000\n",
      "F    5.0400   0.0000   0.0000\n",
      "H    6.8600   0.0000   0.0000\n",
      "F    8.4800   0.0000   0.0000\n",
      "H    9.3400   0.0000   0.0000\n",
      "F   10.6400   0.0000   0.0000\n",
      "\n",
      "\n",
      "%nproc=1\n",
      "%chk=tmp.chk\n",
      "# ccsd(t)/aug-cc-pVTZ force int(grid=ultrafine) 6d 10f nosymm ExtraLinks=L608 Scf(maxcycle=1000,verytight) IOp(2/12=3)\n",
      "\n",
      "H5F5_0030\n",
      "\n",
      "0   1\n",
      "H   -1.8600   0.0000   0.0000\n",
      "F    0.0000   0.0000   0.0000\n",
      "H    2.9400   0.0000   0.0000\n",
      "F    4.7200   0.0000   0.0000\n",
      "H    7.8200   0.0000   0.0000\n",
      "F    9.5200   0.0000   0.0000\n",
      "H   10.7000   0.0000   0.0000\n",
      "F   11.2000   0.0000   0.0000\n",
      "H   13.1800   0.0000   0.0000\n",
      "F   15.0400   0.0000   0.0000\n",
      "\n",
      "\n",
      "%nproc=8\n",
      "%chk=tmp.chk\n",
      "# ccsd(t)/aug-cc-pVTZ force int(grid=ultrafine) 6d 10f nosymm ExtraLinks=L608 Scf(maxcycle=1000,verytight) IOp(2/12=3)\n",
      "\n",
      "H6F6_0040\n",
      "\n",
      "0   1\n",
      "H   -0.8200   0.0000   0.0000\n",
      "F    0.0000   0.0000   0.0000\n",
      "H    3.1000   0.0000   0.0000\n",
      "F    4.2400   0.0000   0.0000\n",
      "H    6.8600   0.0000   0.0000\n",
      "F    8.0800   0.0000   0.0000\n",
      "H    8.7800   0.0000   0.0000\n",
      "F    9.5200   0.0000   0.0000\n",
      "H   10.2200   0.0000   0.0000\n",
      "F   10.8800   0.0000   0.0000\n",
      "H   12.5400   0.0000   0.0000\n",
      "F   13.2800   0.0000   0.0000\n",
      "\n",
      "\n"
     ]
    },
    {
     "data": {
      "text/plain": [
       "<qctoolkit.QM.general_io.InpContent at 0x2ba91aa64910>"
      ]
     },
     "execution_count": 5,
     "metadata": {},
     "output_type": "execute_result"
    }
   ],
   "source": [
    "mols_3 = build(3)\n",
    "inps_3 = [qtk.QMInp(m, **qmsetting) for m in mols_3]\n",
    "mols_4 = build(4)\n",
    "inps_4 = [qtk.QMInp(m, **qmsetting) for m in mols_4]\n",
    "mols_5 = build(5)\n",
    "inps_5 = [qtk.QMInp(m, **qmsetting) for m in mols_5]\n",
    "mols_6 = build(6)\n",
    "qmsetting['threads'] = 8\n",
    "inps_6 = [qtk.QMInp(m, **qmsetting) for m in mols_6]\n",
    "inps_3[10].write()\n",
    "inps_4[20].write()\n",
    "inps_5[30].write()\n",
    "inps_6[40].write()"
   ]
  },
  {
   "cell_type": "code",
   "execution_count": 6,
   "metadata": {
    "collapsed": false
   },
   "outputs": [],
   "source": [
    "#qtk.submit(inps_3, 'wavelet_m3_ccsdt', **maia)\n",
    "#qtk.submit(inps_4, 'wavelet_m4_ccsdt', **maia)\n",
    "#maia['flags'] = '-l runtime=168:0:0'#,#membycore=4G',\n",
    "#qtk.submit(inps_5, 'wavelet_m5_ccsdt', **maia)\n",
    "#qtk.submit(inps_6, 'wavelet_m6_ccsdt', **maia)\n",
    "\n",
    "# qtk.qmRunAll(inps_3, 'wavelet_m3_local')"
   ]
  },
  {
   "cell_type": "code",
   "execution_count": null,
   "metadata": {
    "collapsed": true
   },
   "outputs": [],
   "source": []
  }
 ],
 "metadata": {
  "kernelspec": {
   "display_name": "Python 2",
   "language": "python",
   "name": "python2"
  },
  "language_info": {
   "codemirror_mode": {
    "name": "ipython",
    "version": 2
   },
   "file_extension": ".py",
   "mimetype": "text/x-python",
   "name": "python",
   "nbconvert_exporter": "python",
   "pygments_lexer": "ipython2",
   "version": "2.7.6"
  }
 },
 "nbformat": 4,
 "nbformat_minor": 0
}
